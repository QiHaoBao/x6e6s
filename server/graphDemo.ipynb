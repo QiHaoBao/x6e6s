{
 "cells": [
  {
   "cell_type": "code",
   "execution_count": 4,
   "metadata": {
    "collapsed": false
   },
   "outputs": [],
   "source": [
    "import networkx as nx\n",
    "G=nx.DiGraph()\n",
    "\n",
    "G.add_edges_from([(1,2),(1,3)])\n",
    "G.add_node(1)\n",
    "G.add_edge(1,2)\n",
    "G.add_node(\"spam\")       # adds node \"spam\"\n",
    "G.add_nodes_from(\"spam\") # adds 4 nodes: 's', 'p', 'a', 'm'"
   ]
  },
  {
   "cell_type": "code",
   "execution_count": 5,
   "metadata": {
    "collapsed": false
   },
   "outputs": [
    {
     "name": "stdout",
     "output_type": "stream",
     "text": [
      "8\n",
      "2\n"
     ]
    }
   ],
   "source": [
    "print G.number_of_nodes()\n",
    "print G.number_of_edges()"
   ]
  },
  {
   "cell_type": "code",
   "execution_count": 6,
   "metadata": {
    "collapsed": false
   },
   "outputs": [
    {
     "name": "stdout",
     "output_type": "stream",
     "text": [
      "['a', 1, 2, 3, 'spam', 'm', 'p', 's']\n",
      "[(1, 2), (1, 3)]\n"
     ]
    }
   ],
   "source": [
    "print G.nodes()\n",
    "print G.edges()"
   ]
  },
  {
   "cell_type": "code",
   "execution_count": 7,
   "metadata": {
    "collapsed": true
   },
   "outputs": [],
   "source": [
    "G.add_edge(2,1)"
   ]
  },
  {
   "cell_type": "code",
   "execution_count": 8,
   "metadata": {
    "collapsed": false
   },
   "outputs": [
    {
     "name": "stdout",
     "output_type": "stream",
     "text": [
      "[(1, 2), (1, 3), (2, 1)]\n"
     ]
    }
   ],
   "source": [
    "print G.edges()"
   ]
  },
  {
   "cell_type": "code",
   "execution_count": 10,
   "metadata": {
    "collapsed": false
   },
   "outputs": [
    {
     "data": {
      "text/plain": [
       "{2: {}, 3: {}}"
      ]
     },
     "execution_count": 10,
     "metadata": {},
     "output_type": "execute_result"
    }
   ],
   "source": [
    "G[1]"
   ]
  },
  {
   "cell_type": "code",
   "execution_count": 13,
   "metadata": {
    "collapsed": false
   },
   "outputs": [],
   "source": [
    "G.node[1]['name']=\"2D-map\"\n",
    "G.node[2]['name']=\"3D-zonal-map\""
   ]
  },
  {
   "cell_type": "code",
   "execution_count": 14,
   "metadata": {
    "collapsed": false
   },
   "outputs": [
    {
     "data": {
      "text/plain": [
       "['a', 1, 2, 3, 'spam', 'm', 'p', 's']"
      ]
     },
     "execution_count": 14,
     "metadata": {},
     "output_type": "execute_result"
    }
   ],
   "source": [
    "G.nodes()"
   ]
  },
  {
   "cell_type": "code",
   "execution_count": 21,
   "metadata": {
    "collapsed": false
   },
   "outputs": [
    {
     "data": {
      "text/plain": [
       "'3D-zonal-map'"
      ]
     },
     "execution_count": 21,
     "metadata": {},
     "output_type": "execute_result"
    }
   ],
   "source": [
    "G.node[2]['name']"
   ]
  },
  {
   "cell_type": "code",
   "execution_count": 40,
   "metadata": {
    "collapsed": false
   },
   "outputs": [
    {
     "data": {
      "text/plain": [
       "['a', 1, 2, 3, 4, 'spam']"
      ]
     },
     "execution_count": 40,
     "metadata": {},
     "output_type": "execute_result"
    }
   ],
   "source": [
    "G.nodes()"
   ]
  },
  {
   "cell_type": "code",
   "execution_count": 23,
   "metadata": {
    "collapsed": false
   },
   "outputs": [
    {
     "data": {
      "text/plain": [
       "[2, 3]"
      ]
     },
     "execution_count": 23,
     "metadata": {},
     "output_type": "execute_result"
    }
   ],
   "source": [
    "G.successors(1)\n"
   ]
  },
  {
   "cell_type": "code",
   "execution_count": 24,
   "metadata": {
    "collapsed": false
   },
   "outputs": [
    {
     "data": {
      "text/plain": [
       "[1]"
      ]
     },
     "execution_count": 24,
     "metadata": {},
     "output_type": "execute_result"
    }
   ],
   "source": [
    "G.successors(2)"
   ]
  },
  {
   "cell_type": "code",
   "execution_count": 102,
   "metadata": {
    "collapsed": false
   },
   "outputs": [
    {
     "data": {
      "image/png": "[encoded data removed]",
      "text/plain": [
       "<matplotlib.figure.Figure at 0x7fadb36581d0>"
      ]
     },
     "metadata": {},
     "output_type": "display_data"
    },
    {
     "data": {
      "text/plain": [
       "[u'n12',\n",
       " u'n10',\n",
       " u'n11',\n",
       " u'n8',\n",
       " u'n9',\n",
       " u'n1',\n",
       " u'n2',\n",
       " u'n3',\n",
       " u'n4',\n",
       " u'n5',\n",
       " u'n6',\n",
       " u'n7']"
      ]
     },
     "execution_count": 102,
     "metadata": {},
     "output_type": "execute_result"
    }
   ],
   "source": [
    "import matplotlib.pyplot as plt\n",
    "\n",
    "nx.draw_spring(G)\n",
    "plt.show()\n",
    "G.nodes()"
   ]
  },
  {
   "cell_type": "code",
   "execution_count": 99,
   "metadata": {
    "collapsed": false
   },
   "outputs": [],
   "source": [
    "G.remove_nodes_from('mps')"
   ]
  },
  {
   "cell_type": "code",
   "execution_count": 39,
   "metadata": {
    "collapsed": true
   },
   "outputs": [],
   "source": [
    "G.add_node(4, name=\"4D-map\")"
   ]
  },
  {
   "cell_type": "code",
   "execution_count": 41,
   "metadata": {
    "collapsed": false
   },
   "outputs": [
    {
     "data": {
      "text/plain": [
       "{'name': '4D-map'}"
      ]
     },
     "execution_count": 41,
     "metadata": {},
     "output_type": "execute_result"
    }
   ],
   "source": [
    "G.node[4]"
   ]
  },
  {
   "cell_type": "code",
   "execution_count": 44,
   "metadata": {
    "collapsed": false
   },
   "outputs": [
    {
     "ename": "TypeError",
     "evalue": "nodes() got an unexpected keyword argument 'name'",
     "output_type": "error",
     "traceback": [
      "\u001b[0;31m---------------------------------------------------------------------------\u001b[0m",
      "\u001b[0;31mTypeError\u001b[0m                                 Traceback (most recent call last)",
      "\u001b[0;32m<ipython-input-44-5fddfc5294cc>\u001b[0m in \u001b[0;36m<module>\u001b[0;34m()\u001b[0m\n\u001b[0;32m----> 1\u001b[0;31m \u001b[0mG\u001b[0m\u001b[0;34m.\u001b[0m\u001b[0mnodes\u001b[0m\u001b[0;34m(\u001b[0m\u001b[0mname\u001b[0m\u001b[0;34m=\u001b[0m\u001b[0mTrue\u001b[0m\u001b[0;34m)\u001b[0m\u001b[0;34m\u001b[0m\u001b[0m\n\u001b[0m",
      "\u001b[0;31mTypeError\u001b[0m: nodes() got an unexpected keyword argument 'name'"
     ]
    }
   ],
   "source": [
    "G.nodes(name=True)"
   ]
  },
  {
   "cell_type": "code",
   "execution_count": 46,
   "metadata": {
    "collapsed": false
   },
   "outputs": [
    {
     "data": {
      "text/plain": [
       "True"
      ]
     },
     "execution_count": 46,
     "metadata": {},
     "output_type": "execute_result"
    }
   ],
   "source": [
    "nx.has_path(G,2,1)"
   ]
  },
  {
   "cell_type": "code",
   "execution_count": 49,
   "metadata": {
    "collapsed": false
   },
   "outputs": [
    {
     "data": {
      "text/plain": [
       "False"
      ]
     },
     "execution_count": 49,
     "metadata": {},
     "output_type": "execute_result"
    }
   ],
   "source": [
    "nx.has_path(G,3,1)"
   ]
  },
  {
   "cell_type": "code",
   "execution_count": 63,
   "metadata": {
    "collapsed": false
   },
   "outputs": [
    {
     "name": "stdout",
     "output_type": "stream",
     "text": [
      "n1\n",
      "n2\n",
      "n3\n",
      "n4\n",
      "n5\n",
      "n6\n",
      "n7\n",
      "n8\n",
      "n9\n",
      "n10\n",
      "n11\n",
      "n12\n",
      "arc13\n",
      "arc14\n",
      "arc15\n",
      "arc16\n",
      "arc17\n",
      "arc18\n",
      "arc19\n",
      "arc20\n",
      "arc21\n",
      "arc22\n",
      "arc23\n",
      "arc24\n",
      "arc25\n",
      "arc26\n"
     ]
    }
   ],
   "source": [
    "import json\n",
    "import networkx as nx\n",
    "G=nx.DiGraph()\n",
    "\n",
    "PROM_DIR = \"/home/soc/Downloads/prom/prom-6.6-all-platforms/\"\n",
    "jsoned = \"\"\n",
    "with open(PROM_DIR + \"jsoned_workflow_1.txt\", \"rt\") as fin:\n",
    "    for line in fin:\n",
    "        jsoned = jsoned + line\n",
    "jsoned = json.loads(jsoned)\n",
    "page = jsoned['pnml']['net']['page']\n",
    "\n",
    "for p in page['place']:\n",
    "    print p['@id']\n",
    "    G.add_node(p['@id'], name = p['name']['text']['$'], sort = 'place')\n",
    "\n",
    "for t in page['transition']:\n",
    "    print t['@id']\n",
    "    G.add_node(t['@id'], name = t['name']['text']['$'], sort = 'transition')\n",
    "    \n",
    "for a in page['arc']:\n",
    "    print a['@id']\n",
    "    G.add_edge(a['@source'], a['@target'], name = a['name']['text']['$'], sort = 'arc')"
   ]
  },
  {
   "cell_type": "code",
   "execution_count": 92,
   "metadata": {
    "collapsed": false
   },
   "outputs": [
    {
     "name": "stdout",
     "output_type": "stream",
     "text": [
      "set([u'n1', u'n2', u'n3', u'n4', u'n5'])\n",
      "[(u'n1', u'n2'), (u'n1', u'n3'), (u'n1', u'n4'), (u'n1', u'n5'), (u'n2', u'n3'), (u'n2', u'n4'), (u'n2', u'n5'), (u'n3', u'n4'), (u'n3', u'n5'), (u'n4', u'n5')]\n",
      "(u'n1', u'n2')\n",
      "(u'n1', u'n3')\n",
      "(u'n1', u'n4')\n",
      "(u'n1', u'n5')\n",
      "(u'n3', u'n5')\n",
      "(u'n4', u'n5')\n",
      "[(u'n1', u'n2'), (u'n1', u'n3'), (u'n1', u'n4'), (u'n1', u'n5'), (u'n3', u'n5'), (u'n4', u'n5')]\n"
     ]
    }
   ],
   "source": [
    "import itertools\n",
    "test_res = set(n for u,v,d in G.edges_iter(data=True)\n",
    "               if d['sort']=='arc'\n",
    "               for n in (u, v)\n",
    "               if G.node[n]['sort']=='place')\n",
    "\n",
    "print str(test_res)\n",
    "comb = list(itertools.combinations(test_res,2))\n",
    "uow = []\n",
    "print comb\n",
    "for i in comb:\n",
    "    for j in G.successors(i[0]):\n",
    "        if nx.has_path(G, j, i[1]):\n",
    "            print (i[0], i[1])\n",
    "            uow.append((i[0], i[1]))\n",
    "            break\n",
    "print uow"
   ]
  },
  {
   "cell_type": "code",
   "execution_count": null,
   "metadata": {
    "collapsed": true
   },
   "outputs": [],
   "source": []
  }
 ],
 "metadata": {
  "kernelspec": {
   "display_name": "Python 2",
   "language": "python",
   "name": "python2"
  },
  "language_info": {
   "codemirror_mode": {
    "name": "ipython",
    "version": 2
   },
   "file_extension": ".py",
   "mimetype": "text/x-python",
   "name": "python",
   "nbconvert_exporter": "python",
   "pygments_lexer": "ipython2",
   "version": "2.7.13"
  }
 },
 "nbformat": 4,
 "nbformat_minor": 2
}
