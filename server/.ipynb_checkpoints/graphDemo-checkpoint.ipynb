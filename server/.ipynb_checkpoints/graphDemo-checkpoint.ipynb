{
 "cells": [
  {
   "cell_type": "code",
   "execution_count": 1,
   "metadata": {
    "collapsed": true
   },
   "outputs": [],
   "source": [
    "import networkx as nx\n",
    "G=nx.DiGraph()\n",
    "\n",
    "G.add_edges_from([(1,2),(1,3)])\n",
    "G.add_node(1)\n",
    "G.add_edge(1,2)\n",
    "G.add_node(\"spam\")       # adds node \"spam\"\n",
    "G.add_nodes_from(\"spam\") # adds 4 nodes: 's', 'p', 'a', 'm'"
   ]
  },
  {
   "cell_type": "code",
   "execution_count": 2,
   "metadata": {
    "collapsed": true
   },
   "outputs": [],
   "source": [
    "from networkx.readwrite import json_graph\n",
    "import matplotlib.pyplot as plt\n",
    "import json\n",
    "import networkx as nx"
   ]
  },
  {
   "cell_type": "code",
   "execution_count": 3,
   "metadata": {},
   "outputs": [
    {
     "name": "stdout",
     "output_type": "stream",
     "text": [
      "8\n",
      "2\n"
     ]
    }
   ],
   "source": [
    "print G.number_of_nodes()\n",
    "print G.number_of_edges()"
   ]
  },
  {
   "cell_type": "code",
   "execution_count": 4,
   "metadata": {},
   "outputs": [
    {
     "name": "stdout",
     "output_type": "stream",
     "text": [
      "['a', 1, 2, 3, 'spam', 'm', 'p', 's']\n",
      "[(1, 2), (1, 3)]\n"
     ]
    }
   ],
   "source": [
    "print G.nodes()\n",
    "print G.edges()"
   ]
  },
  {
   "cell_type": "code",
   "execution_count": 5,
   "metadata": {
    "collapsed": true
   },
   "outputs": [],
   "source": [
    "G.add_edge(2,1)"
   ]
  },
  {
   "cell_type": "code",
   "execution_count": 6,
   "metadata": {},
   "outputs": [
    {
     "name": "stdout",
     "output_type": "stream",
     "text": [
      "[(1, 2), (1, 3), (2, 1)]\n"
     ]
    }
   ],
   "source": [
    "print G.edges()"
   ]
  },
  {
   "cell_type": "code",
   "execution_count": 7,
   "metadata": {},
   "outputs": [
    {
     "data": {
      "text/plain": [
       "{2: {}, 3: {}}"
      ]
     },
     "execution_count": 7,
     "metadata": {},
     "output_type": "execute_result"
    }
   ],
   "source": [
    "G[1]"
   ]
  },
  {
   "cell_type": "code",
   "execution_count": 8,
   "metadata": {
    "collapsed": true
   },
   "outputs": [],
   "source": [
    "G.node[1]['name']=\"2D-map\"\n",
    "G.node[2]['name']=\"3D-zonal-map\""
   ]
  },
  {
   "cell_type": "code",
   "execution_count": 9,
   "metadata": {},
   "outputs": [
    {
     "data": {
      "text/plain": [
       "['a', 1, 2, 3, 'spam', 'm', 'p', 's']"
      ]
     },
     "execution_count": 9,
     "metadata": {},
     "output_type": "execute_result"
    }
   ],
   "source": [
    "G.nodes()"
   ]
  },
  {
   "cell_type": "code",
   "execution_count": 10,
   "metadata": {},
   "outputs": [
    {
     "data": {
      "text/plain": [
       "'3D-zonal-map'"
      ]
     },
     "execution_count": 10,
     "metadata": {},
     "output_type": "execute_result"
    }
   ],
   "source": [
    "G.node[2]['name']"
   ]
  },
  {
   "cell_type": "code",
   "execution_count": 11,
   "metadata": {},
   "outputs": [
    {
     "data": {
      "text/plain": [
       "['a', 1, 2, 3, 'spam', 'm', 'p', 's']"
      ]
     },
     "execution_count": 11,
     "metadata": {},
     "output_type": "execute_result"
    }
   ],
   "source": [
    "G.nodes()"
   ]
  },
  {
   "cell_type": "code",
   "execution_count": 12,
   "metadata": {},
   "outputs": [
    {
     "data": {
      "text/plain": [
       "[2, 3]"
      ]
     },
     "execution_count": 12,
     "metadata": {},
     "output_type": "execute_result"
    }
   ],
   "source": [
    "G.successors(1)\n"
   ]
  },
  {
   "cell_type": "code",
   "execution_count": 13,
   "metadata": {},
   "outputs": [
    {
     "data": {
      "text/plain": [
       "[1]"
      ]
     },
     "execution_count": 13,
     "metadata": {},
     "output_type": "execute_result"
    }
   ],
   "source": [
    "G.successors(2)"
   ]
  },
  {
   "cell_type": "code",
   "execution_count": 14,
   "metadata": {},
   "outputs": [
    {
     "data": {
      "image/png": "[encoded data removed]",
      "text/plain": [
       "<matplotlib.figure.Figure at 0x79c8470>"
      ]
     },
     "metadata": {},
     "output_type": "display_data"
    },
    {
     "data": {
      "text/plain": [
       "['a', 1, 2, 3, 'spam', 'm', 'p', 's']"
      ]
     },
     "execution_count": 14,
     "metadata": {},
     "output_type": "execute_result"
    }
   ],
   "source": [
    "import matplotlib.pyplot as plt\n",
    "\n",
    "nx.draw_networkx(G, prog='neato')\n",
    "plt.show()\n",
    "G.nodes()"
   ]
  },
  {
   "cell_type": "code",
   "execution_count": 15,
   "metadata": {
    "collapsed": true
   },
   "outputs": [],
   "source": [
    "G.remove_nodes_from('mps')"
   ]
  },
  {
   "cell_type": "code",
   "execution_count": 16,
   "metadata": {
    "collapsed": true
   },
   "outputs": [],
   "source": [
    "G.add_node(4, name=\"4D-map\")"
   ]
  },
  {
   "cell_type": "code",
   "execution_count": 17,
   "metadata": {},
   "outputs": [
    {
     "data": {
      "text/plain": [
       "{'name': '4D-map'}"
      ]
     },
     "execution_count": 17,
     "metadata": {},
     "output_type": "execute_result"
    }
   ],
   "source": [
    "G.node[4]"
   ]
  },
  {
   "cell_type": "code",
   "execution_count": 24,
   "metadata": {},
   "outputs": [
    {
     "ename": "TypeError",
     "evalue": "nodes() got an unexpected keyword argument 'name'",
     "output_type": "error",
     "traceback": [
      "\u001b[1;31m---------------------------------------------------------------------------\u001b[0m",
      "\u001b[1;31mTypeError\u001b[0m                                 Traceback (most recent call last)",
      "\u001b[1;32m<ipython-input-24-5fddfc5294cc>\u001b[0m in \u001b[0;36m<module>\u001b[1;34m()\u001b[0m\n\u001b[1;32m----> 1\u001b[1;33m \u001b[0mG\u001b[0m\u001b[1;33m.\u001b[0m\u001b[0mnodes\u001b[0m\u001b[1;33m(\u001b[0m\u001b[0mname\u001b[0m\u001b[1;33m=\u001b[0m\u001b[0mTrue\u001b[0m\u001b[1;33m)\u001b[0m\u001b[1;33m\u001b[0m\u001b[0m\n\u001b[0m",
      "\u001b[1;31mTypeError\u001b[0m: nodes() got an unexpected keyword argument 'name'"
     ]
    }
   ],
   "source": [
    "G.nodes(name=True)"
   ]
  },
  {
   "cell_type": "code",
   "execution_count": 19,
   "metadata": {},
   "outputs": [
    {
     "data": {
      "text/plain": [
       "True"
      ]
     },
     "execution_count": 19,
     "metadata": {},
     "output_type": "execute_result"
    }
   ],
   "source": [
    "nx.has_path(G,2,1)"
   ]
  },
  {
   "cell_type": "code",
   "execution_count": 20,
   "metadata": {},
   "outputs": [
    {
     "data": {
      "text/plain": [
       "False"
      ]
     },
     "execution_count": 20,
     "metadata": {},
     "output_type": "execute_result"
    }
   ],
   "source": [
    "nx.has_path(G,3,1)"
   ]
  },
  {
   "cell_type": "code",
   "execution_count": 21,
   "metadata": {},
   "outputs": [
    {
     "ename": "IOError",
     "evalue": "[Errno 2] No such file or directory: '/home/soc/Downloads/prom/prom-6.6-all-platforms/jsoned_workflow_1.txt'",
     "output_type": "error",
     "traceback": [
      "\u001b[1;31m---------------------------------------------------------------------------\u001b[0m",
      "\u001b[1;31mIOError\u001b[0m                                   Traceback (most recent call last)",
      "\u001b[1;32m<ipython-input-21-95483c7fd215>\u001b[0m in \u001b[0;36m<module>\u001b[1;34m()\u001b[0m\n\u001b[0;32m      5\u001b[0m \u001b[0mPROM_DIR\u001b[0m \u001b[1;33m=\u001b[0m \u001b[1;34m\"/home/soc/Downloads/prom/prom-6.6-all-platforms/\"\u001b[0m\u001b[1;33m\u001b[0m\u001b[0m\n\u001b[0;32m      6\u001b[0m \u001b[0mjsoned\u001b[0m \u001b[1;33m=\u001b[0m \u001b[1;34m\"\"\u001b[0m\u001b[1;33m\u001b[0m\u001b[0m\n\u001b[1;32m----> 7\u001b[1;33m \u001b[1;32mwith\u001b[0m \u001b[0mopen\u001b[0m\u001b[1;33m(\u001b[0m\u001b[0mPROM_DIR\u001b[0m \u001b[1;33m+\u001b[0m \u001b[1;34m\"jsoned_workflow_1.txt\"\u001b[0m\u001b[1;33m,\u001b[0m \u001b[1;34m\"rt\"\u001b[0m\u001b[1;33m)\u001b[0m \u001b[1;32mas\u001b[0m \u001b[0mfin\u001b[0m\u001b[1;33m:\u001b[0m\u001b[1;33m\u001b[0m\u001b[0m\n\u001b[0m\u001b[0;32m      8\u001b[0m     \u001b[1;32mfor\u001b[0m \u001b[0mline\u001b[0m \u001b[1;32min\u001b[0m \u001b[0mfin\u001b[0m\u001b[1;33m:\u001b[0m\u001b[1;33m\u001b[0m\u001b[0m\n\u001b[0;32m      9\u001b[0m         \u001b[0mjsoned\u001b[0m \u001b[1;33m=\u001b[0m \u001b[0mjsoned\u001b[0m \u001b[1;33m+\u001b[0m \u001b[0mline\u001b[0m\u001b[1;33m\u001b[0m\u001b[0m\n",
      "\u001b[1;31mIOError\u001b[0m: [Errno 2] No such file or directory: '/home/soc/Downloads/prom/prom-6.6-all-platforms/jsoned_workflow_1.txt'"
     ]
    }
   ],
   "source": [
    "import json\n",
    "import networkx as nx\n",
    "G=nx.DiGraph()\n",
    "\n",
    "PROM_DIR = \"/home/soc/Downloads/prom/prom-6.6-all-platforms/\"\n",
    "jsoned = \"\"\n",
    "with open(PROM_DIR + \"jsoned_workflow_1.txt\", \"rt\") as fin:\n",
    "    for line in fin:\n",
    "        jsoned = jsoned + line\n",
    "jsoned = json.loads(jsoned)\n",
    "page = jsoned['pnml']['net']['page']\n",
    "\n",
    "for p in page['place']:\n",
    "    print p['@id']\n",
    "    G.add_node(p['@id'], name = p['name']['text']['$'], sort = 'place')\n",
    "\n",
    "for t in page['transition']:\n",
    "    print t['@id']\n",
    "    G.add_node(t['@id'], name = t['name']['text']['$'], sort = 'transition')\n",
    "    \n",
    "for a in page['arc']:\n",
    "    print a['@id']\n",
    "    G.add_edge(a['@source'], a['@target'], name = a['name']['text']['$'], sort = 'arc')"
   ]
  },
  {
   "cell_type": "code",
   "execution_count": 22,
   "metadata": {},
   "outputs": [
    {
     "name": "stdout",
     "output_type": "stream",
     "text": [
      "set([])\n",
      "[]\n",
      "[]\n"
     ]
    }
   ],
   "source": [
    "import itertools\n",
    "test_res = set(n for u,v,d in G.edges_iter(data=True)\n",
    "               if d['sort']=='arc'\n",
    "               for n in (u, v)\n",
    "               if G.node[n]['sort']=='place')\n",
    "\n",
    "print str(test_res)\n",
    "comb = list(itertools.combinations(test_res,2))\n",
    "uow = []\n",
    "print comb\n",
    "for i in comb:\n",
    "    for j in G.successors(i[0]):\n",
    "        if nx.has_path(G, j, i[1]):\n",
    "            print (i[0], i[1])\n",
    "            uow.append((i[0], i[1]))\n",
    "            break\n",
    "print uow"
   ]
  },
  {
   "cell_type": "code",
   "execution_count": 26,
   "metadata": {},
   "outputs": [
    {
     "ename": "ImportError",
     "evalue": "No module named graphviz",
     "output_type": "error",
     "traceback": [
      "\u001b[1;31m---------------------------------------------------------------------------\u001b[0m",
      "\u001b[1;31mImportError\u001b[0m                               Traceback (most recent call last)",
      "\u001b[1;32m<ipython-input-26-6c6927ed40fb>\u001b[0m in \u001b[0;36m<module>\u001b[1;34m()\u001b[0m\n\u001b[0;32m      1\u001b[0m \u001b[1;32mfrom\u001b[0m \u001b[0mnetworkx\u001b[0m\u001b[1;33m.\u001b[0m\u001b[0mreadwrite\u001b[0m \u001b[1;32mimport\u001b[0m \u001b[0mjson_graph\u001b[0m\u001b[1;33m\u001b[0m\u001b[0m\n\u001b[1;32m----> 2\u001b[1;33m \u001b[1;32mimport\u001b[0m \u001b[0mgraphviz\u001b[0m\u001b[1;33m\u001b[0m\u001b[0m\n\u001b[0m\u001b[0;32m      3\u001b[0m \u001b[1;33m\u001b[0m\u001b[0m\n\u001b[0;32m      4\u001b[0m \u001b[0mjsonRes\u001b[0m \u001b[1;33m=\u001b[0m \u001b[1;33m{\u001b[0m\u001b[1;34m\"all_uows\"\u001b[0m \u001b[1;33m:\u001b[0m \u001b[1;33m[\u001b[0m\u001b[1;33m]\u001b[0m\u001b[1;33m}\u001b[0m\u001b[1;33m\u001b[0m\u001b[0m\n\u001b[0;32m      5\u001b[0m \u001b[1;32mfor\u001b[0m \u001b[0mpair\u001b[0m \u001b[1;32min\u001b[0m \u001b[0muow\u001b[0m\u001b[1;33m:\u001b[0m\u001b[1;33m\u001b[0m\u001b[0m\n",
      "\u001b[1;31mImportError\u001b[0m: No module named graphviz"
     ]
    }
   ],
   "source": [
    "from networkx.readwrite import json_graph\n",
    "import pygraphviz\n",
    "\n",
    "jsonRes = {\"all_uows\" : []}\n",
    "for pair in uow:\n",
    "    sub = nx.DiGraph()\n",
    "    for path in nx.all_simple_paths(G, source=pair[0], target=pair[1]):         \n",
    "        for node in path:\n",
    "            sub.add_node(node)\n",
    "    subG = nx.subgraph(G, sub)\n",
    "    subG.nodes()\n",
    "    tmpDict = {}\n",
    "    for node in subG.nodes_iter():\n",
    "        if subG.node[node]['name'] != 'tau from tree':\n",
    "            tmpDict[node]=subG.node[node]['name']\n",
    "        else:\n",
    "            tmpDict[node]='Util'\n",
    "        #print subG.node[node]['name']\n",
    "    position = nx.nx_agraph.graphviz_layout(subG, prog='dot')\n",
    "    nx.draw_networkx(subG, labels=tmpDict, pos=position, node_shape='s', node_color='g', alpha=0.4, node_size=600)\n",
    "    #plt.set_size_inches(18.5, 10.5)\n",
    "    plt.show()    \n",
    "    jsonTmp = json_graph.node_link_data(subG)\n",
    "    jsonRes['all_uows'].append(jsonTmp)\n",
    "    \n",
    "print json.dumps(jsonRes)"
   ]
  },
  {
   "cell_type": "code",
   "execution_count": 41,
   "metadata": {},
   "outputs": [
    {
     "data": {
      "image/png": "[encoded data removed]",
      "text/plain": [
       "<matplotlib.figure.Figure at 0x7fb3848658d0>"
      ]
     },
     "metadata": {},
     "output_type": "display_data"
    },
    {
     "name": "stdout",
     "output_type": "stream",
     "text": [
      "[u'n9', u'n10', u'n3', u'n4', u'n5']\n",
      "{\"directed\": true, \"graph\": {}, \"nodes\": [{\"sort\": \"transition\", \"name\": \"2D_Map\", \"id\": \"n9\"}, {\"sort\": \"transition\", \"name\": \"Time-Series-for-Work-Flow\", \"id\": \"n10\"}, {\"sort\": \"place\", \"name\": \"sink 3\", \"id\": \"n3\"}, {\"sort\": \"place\", \"name\": \"sink 4\", \"id\": \"n4\"}, {\"sort\": \"place\", \"name\": \"sink 5\", \"id\": \"n5\"}], \"links\": [{\"sort\": \"arc\", \"source\": 0, \"name\": 1, \"target\": 2}, {\"sort\": \"arc\", \"source\": 1, \"name\": 1, \"target\": 4}, {\"sort\": \"arc\", \"source\": 2, \"name\": 1, \"target\": 1}, {\"sort\": \"arc\", \"source\": 3, \"name\": 1, \"target\": 0}], \"multigraph\": false}\n",
      "{u'n9': (57.948, 42.651), u'n10': (-51.503, -51.007), u'n3': (7.6134, -9.2504), u'n4': (103.11, 98.949), u'n5': (-117.17, -81.343)}\n"
     ]
    }
   ],
   "source": [
    "from networkx.readwrite import json_graph\n",
    "import pygraphviz\n",
    "\n",
    "subG = nx.subgraph(G, sub)\n",
    "nx.draw_networkx(subG, with_labels=True)\n",
    "plt.show()\n",
    "print subG.nodes()\n",
    "\n",
    "jsonRes = json_graph.node_link_data(subG)\n",
    "print json.dumps(jsonRes)\n",
    "\n",
    "pos = nx.nx_agraph.graphviz_layout(subG)\n",
    "print pos"
   ]
  },
  {
   "cell_type": "code",
   "execution_count": 75,
   "metadata": {},
   "outputs": [
    {
     "name": "stdout",
     "output_type": "stream",
     "text": [
      "Populating the interactive namespace from numpy and matplotlib\n"
     ]
    }
   ],
   "source": [
    "%pylab inline\n",
    "pylab.rcParams['figure.figsize'] = (15, 9)"
   ]
  },
  {
   "cell_type": "code",
   "execution_count": 25,
   "metadata": {},
   "outputs": [
    {
     "name": "stdout",
     "output_type": "stream",
     "text": [
      "2D_Map\n",
      "Time-Series-for-Work-Flow\n",
      "sink 3\n",
      "sink 4\n",
      "sink 5\n"
     ]
    }
   ],
   "source": [
    "for node in subG.nodes_iter():\n",
    "    print subG.node[node]['name']"
   ]
  },
  {
   "cell_type": "code",
   "execution_count": 20,
   "metadata": {},
   "outputs": [
    {
     "data": {
      "text/plain": [
       "[(u'n9', {'name': u'2D_Map', 'sort': 'transition'}),\n",
       " (u'n10', {'name': u'Time-Series-for-Work-Flow', 'sort': 'transition'}),\n",
       " (u'n3', {'name': u'sink 3', 'sort': 'place'}),\n",
       " (u'n4', {'name': u'sink 4', 'sort': 'place'}),\n",
       " (u'n5', {'name': u'sink 5', 'sort': 'place'})]"
      ]
     },
     "execution_count": 20,
     "metadata": {},
     "output_type": "execute_result"
    }
   ],
   "source": [
    "subG.nodes(data=True)"
   ]
  },
  {
   "cell_type": "code",
   "execution_count": null,
   "metadata": {
    "collapsed": true
   },
   "outputs": [],
   "source": []
  }
 ],
 "metadata": {
  "kernelspec": {
   "display_name": "Python 2",
   "language": "python",
   "name": "python2"
  },
  "language_info": {
   "codemirror_mode": {
    "name": "ipython",
    "version": 2
   },
   "file_extension": ".py",
   "mimetype": "text/x-python",
   "name": "python",
   "nbconvert_exporter": "python",
   "pygments_lexer": "ipython2",
   "version": "2.7.13"
  }
 },
 "nbformat": 4,
 "nbformat_minor": 2
}
